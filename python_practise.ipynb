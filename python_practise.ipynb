{
 "cells": [
  {
   "cell_type": "markdown",
   "id": "612353ba",
   "metadata": {},
   "source": [
    "# loops"
   ]
  },
  {
   "cell_type": "code",
   "execution_count": 1,
   "id": "e309a78b",
   "metadata": {},
   "outputs": [
    {
     "name": "stdout",
     "output_type": "stream",
     "text": [
      "p\n",
      "y\n",
      "t\n",
      "h\n",
      "o\n",
      "n\n"
     ]
    }
   ],
   "source": [
    "#for loop\n",
    "\n",
    "for item in \"python\":\n",
    "    print(item)"
   ]
  },
  {
   "cell_type": "code",
   "execution_count": 2,
   "id": "2ff271ff",
   "metadata": {},
   "outputs": [
    {
     "name": "stdout",
     "output_type": "stream",
     "text": [
      "a\n",
      "b\n",
      "c\n",
      "d\n"
     ]
    }
   ],
   "source": [
    "for item in ['a','b','c','d']:\n",
    "    print(item)"
   ]
  },
  {
   "cell_type": "code",
   "execution_count": 3,
   "id": "6dee9ba5",
   "metadata": {},
   "outputs": [
    {
     "name": "stdout",
     "output_type": "stream",
     "text": [
      "1\n",
      "2\n",
      "3\n",
      "4\n",
      "5\n"
     ]
    }
   ],
   "source": [
    "for number in [1,2,3,4,5]:\n",
    "    print(number)"
   ]
  },
  {
   "cell_type": "code",
   "execution_count": 4,
   "id": "7de6c1b2",
   "metadata": {},
   "outputs": [
    {
     "name": "stdout",
     "output_type": "stream",
     "text": [
      "total:50\n"
     ]
    }
   ],
   "source": [
    "prices =[10,12,13,15]\n",
    "total =0\n",
    "for price in prices:\n",
    "    total+=price\n",
    "print(f\"total:{total}\")"
   ]
  },
  {
   "cell_type": "code",
   "execution_count": 5,
   "id": "2806f45a",
   "metadata": {},
   "outputs": [
    {
     "name": "stdout",
     "output_type": "stream",
     "text": [
      "0\n",
      "1\n",
      "2\n",
      "3\n",
      "4\n",
      "5\n",
      "6\n",
      "7\n",
      "8\n",
      "9\n"
     ]
    }
   ],
   "source": [
    "for x in range(10):\n",
    "    print(x)"
   ]
  },
  {
   "cell_type": "code",
   "execution_count": 6,
   "id": "550106da",
   "metadata": {},
   "outputs": [
    {
     "name": "stdout",
     "output_type": "stream",
     "text": [
      "0\n",
      "1\n",
      "2\n",
      "3\n",
      "4\n"
     ]
    }
   ],
   "source": [
    "for x in range(0,5):\n",
    "    print(x)"
   ]
  },
  {
   "cell_type": "code",
   "execution_count": 7,
   "id": "6453bd38",
   "metadata": {},
   "outputs": [
    {
     "name": "stdout",
     "output_type": "stream",
     "text": [
      "2\n",
      "4\n",
      "6\n",
      "8\n"
     ]
    }
   ],
   "source": [
    "\n",
    "\n",
    "\n",
    "for x in range(2,10,2):\n",
    "    print(x)"
   ]
  },
  {
   "cell_type": "code",
   "execution_count": 8,
   "id": "4870b16e",
   "metadata": {},
   "outputs": [
    {
     "name": "stdout",
     "output_type": "stream",
     "text": [
      "(0,0)\n",
      "(0,1)\n",
      "(0,2)\n",
      "(1,0)\n",
      "(1,1)\n",
      "(1,2)\n",
      "(2,0)\n",
      "(2,1)\n",
      "(2,2)\n",
      "(3,0)\n",
      "(3,1)\n",
      "(3,2)\n"
     ]
    }
   ],
   "source": [
    "#nested loop\n",
    "for x in range(4):\n",
    "    for y in range(3):\n",
    "        print(f'({x},{y})')"
   ]
  },
  {
   "cell_type": "code",
   "execution_count": null,
   "id": "401c7105",
   "metadata": {},
   "outputs": [],
   "source": []
  },
  {
   "cell_type": "code",
   "execution_count": 9,
   "id": "54be2c1c",
   "metadata": {},
   "outputs": [
    {
     "name": "stdout",
     "output_type": "stream",
     "text": [
      "x =  [2.00000000e+00 2.00000000e+00 5.55111512e-17]\n",
      "bb =  [ 2.  0. -1.]\n"
     ]
    }
   ],
   "source": [
    "#3x1-2x2-x3=2 , 2x1-2x2+4x3=0 ,-x1+0.5x2-1.5x3=-1\n",
    "#Ax=b\n",
    "# A=([[3.0,-2.0,-1.0],[2.0,-2.0,4.0],[-1.0,0.5,-1.5]])\n",
    "#x=(x1,x2,x3),b=(2.0,0,-1.0)\n",
    "import numpy as np\n",
    "A=np.array([[3.0,-2.0,-1.0],[2.0,-2.0,4.0],[-1.0,0.5,-1.5]])\n",
    "b=np.array([2.0,0,-1.0])\n",
    "x=np.linalg.solve(A,b)\n",
    "print('x = ',x)\n",
    "bb=np.dot(A,x)\n",
    "print('bb = ',bb)"
   ]
  },
  {
   "cell_type": "code",
   "execution_count": 10,
   "id": "873bff03",
   "metadata": {},
   "outputs": [
    {
     "name": "stdout",
     "output_type": "stream",
     "text": [
      "x = [-15.   8.   2.]\n",
      "bb = [5. 7. 8.]\n"
     ]
    }
   ],
   "source": [
    "#x1 +3x2 −2x3 = 5\n",
    "#3x1 +5x2 +6x3 = 7\n",
    "#2x1 +4x2 +3x3 = 8\n",
    "A=np.array([[1,3,-2],[3,5,6],[2,4,3]])\n",
    "b=np.array([5,7,8])\n",
    "x=np.linalg.solve(A,b)\n",
    "print('x =',x)\n",
    "bb=np.dot(A,x)\n",
    "print('bb =',bb)"
   ]
  },
  {
   "cell_type": "code",
   "execution_count": 11,
   "id": "3211af37",
   "metadata": {},
   "outputs": [
    {
     "name": "stdout",
     "output_type": "stream",
     "text": [
      "x = [2. 1.]\n"
     ]
    }
   ],
   "source": [
    "A=np.array([[2,3],[1,-1]])\n",
    "b=np.array([7,1])\n",
    "x=np.linalg.solve(A,b)\n",
    "print('x =',x)"
   ]
  },
  {
   "cell_type": "code",
   "execution_count": 12,
   "id": "8e7303e8",
   "metadata": {},
   "outputs": [
    {
     "name": "stdout",
     "output_type": "stream",
     "text": [
      "x = 2.78008078224957\n"
     ]
    }
   ],
   "source": [
    "#5+4x=exp(x) find roots in interval 0<x<10\n",
    "from numpy import exp\n",
    "def function(x):\n",
    "    return 5.0+4.0*x-exp(x)\n",
    "a=0.0\n",
    "b=10.0\n",
    "eps=0.00000001\n",
    "fa=function(a)\n",
    "fb=function(b)\n",
    "if fa*fb>0:\n",
    "    print(\"wrong interval!!!\")\n",
    "    exit()\n",
    "    \n",
    "iter=1\n",
    "while (b-a)>eps:\n",
    "    c=(a+b)/2.0\n",
    "    fc=function(c)\n",
    "    if fc==0:\n",
    "        print('x =',c)\n",
    "        exit()\n",
    "    if fa*fc<0:\n",
    "            b=c\n",
    "            fb=fc\n",
    "    else:\n",
    "            a=c\n",
    "            fa=fc\n",
    "            exit()\n",
    "    iter+=1\n",
    "print('x =',c)\n",
    "                "
   ]
  },
  {
   "cell_type": "code",
   "execution_count": 1,
   "id": "06273b24",
   "metadata": {},
   "outputs": [],
   "source": [
    "from numpy import exp\n",
    "from scipy.optimize import bisect"
   ]
  },
  {
   "cell_type": "code",
   "execution_count": 2,
   "id": "b13ab014",
   "metadata": {},
   "outputs": [],
   "source": [
    "def fun(x):\n",
    "    return 5.0+4.0*x-exp(x)"
   ]
  },
  {
   "cell_type": "code",
   "execution_count": 3,
   "id": "dd023cc8",
   "metadata": {},
   "outputs": [],
   "source": [
    "a=0.0\n",
    "b=10.0\n",
    "eps=1.0e-15\n"
   ]
  },
  {
   "cell_type": "code",
   "execution_count": 4,
   "id": "07afb45a",
   "metadata": {},
   "outputs": [
    {
     "ename": "TypeError",
     "evalue": "fun() takes 1 positional argument but 2 were given",
     "output_type": "error",
     "traceback": [
      "\u001b[0;31m---------------------------------------------------------------------------\u001b[0m",
      "\u001b[0;31mTypeError\u001b[0m                                 Traceback (most recent call last)",
      "\u001b[0;32m<ipython-input-4-a225d1f15d0b>\u001b[0m in \u001b[0;36m<module>\u001b[0;34m\u001b[0m\n\u001b[1;32m      4\u001b[0m     \u001b[0mprint\u001b[0m\u001b[0;34m(\u001b[0m\u001b[0;34m\"wrong interval\"\u001b[0m\u001b[0;34m)\u001b[0m\u001b[0;34m\u001b[0m\u001b[0;34m\u001b[0m\u001b[0m\n\u001b[1;32m      5\u001b[0m     \u001b[0mexit\u001b[0m\u001b[0;34m(\u001b[0m\u001b[0;34m)\u001b[0m\u001b[0;34m\u001b[0m\u001b[0;34m\u001b[0m\u001b[0m\n\u001b[0;32m----> 6\u001b[0;31m \u001b[0mx\u001b[0m\u001b[0;34m=\u001b[0m\u001b[0mbisect\u001b[0m\u001b[0;34m(\u001b[0m\u001b[0mfun\u001b[0m\u001b[0;34m,\u001b[0m\u001b[0ma\u001b[0m\u001b[0;34m,\u001b[0m\u001b[0mb\u001b[0m\u001b[0;34m,\u001b[0m\u001b[0meps\u001b[0m\u001b[0;34m)\u001b[0m\u001b[0;34m\u001b[0m\u001b[0;34m\u001b[0m\u001b[0m\n\u001b[0m\u001b[1;32m      7\u001b[0m \u001b[0mprint\u001b[0m\u001b[0;34m(\u001b[0m\u001b[0mx\u001b[0m\u001b[0;34m)\u001b[0m\u001b[0;34m\u001b[0m\u001b[0;34m\u001b[0m\u001b[0m\n",
      "\u001b[0;32m~/anaconda3/lib/python3.8/site-packages/scipy/optimize/zeros.py\u001b[0m in \u001b[0;36mbisect\u001b[0;34m(f, a, b, args, xtol, rtol, maxiter, full_output, disp)\u001b[0m\n\u001b[1;32m    547\u001b[0m     \u001b[0;32mif\u001b[0m \u001b[0mrtol\u001b[0m \u001b[0;34m<\u001b[0m \u001b[0m_rtol\u001b[0m\u001b[0;34m:\u001b[0m\u001b[0;34m\u001b[0m\u001b[0;34m\u001b[0m\u001b[0m\n\u001b[1;32m    548\u001b[0m         \u001b[0;32mraise\u001b[0m \u001b[0mValueError\u001b[0m\u001b[0;34m(\u001b[0m\u001b[0;34m\"rtol too small (%g < %g)\"\u001b[0m \u001b[0;34m%\u001b[0m \u001b[0;34m(\u001b[0m\u001b[0mrtol\u001b[0m\u001b[0;34m,\u001b[0m \u001b[0m_rtol\u001b[0m\u001b[0;34m)\u001b[0m\u001b[0;34m)\u001b[0m\u001b[0;34m\u001b[0m\u001b[0;34m\u001b[0m\u001b[0m\n\u001b[0;32m--> 549\u001b[0;31m     \u001b[0mr\u001b[0m \u001b[0;34m=\u001b[0m \u001b[0m_zeros\u001b[0m\u001b[0;34m.\u001b[0m\u001b[0m_bisect\u001b[0m\u001b[0;34m(\u001b[0m\u001b[0mf\u001b[0m\u001b[0;34m,\u001b[0m \u001b[0ma\u001b[0m\u001b[0;34m,\u001b[0m \u001b[0mb\u001b[0m\u001b[0;34m,\u001b[0m \u001b[0mxtol\u001b[0m\u001b[0;34m,\u001b[0m \u001b[0mrtol\u001b[0m\u001b[0;34m,\u001b[0m \u001b[0mmaxiter\u001b[0m\u001b[0;34m,\u001b[0m \u001b[0margs\u001b[0m\u001b[0;34m,\u001b[0m \u001b[0mfull_output\u001b[0m\u001b[0;34m,\u001b[0m \u001b[0mdisp\u001b[0m\u001b[0;34m)\u001b[0m\u001b[0;34m\u001b[0m\u001b[0;34m\u001b[0m\u001b[0m\n\u001b[0m\u001b[1;32m    550\u001b[0m     \u001b[0;32mreturn\u001b[0m \u001b[0mresults_c\u001b[0m\u001b[0;34m(\u001b[0m\u001b[0mfull_output\u001b[0m\u001b[0;34m,\u001b[0m \u001b[0mr\u001b[0m\u001b[0;34m)\u001b[0m\u001b[0;34m\u001b[0m\u001b[0;34m\u001b[0m\u001b[0m\n\u001b[1;32m    551\u001b[0m \u001b[0;34m\u001b[0m\u001b[0m\n",
      "\u001b[0;31mTypeError\u001b[0m: fun() takes 1 positional argument but 2 were given"
     ]
    }
   ],
   "source": [
    "fa=fun(a)\n",
    "fb=fun(b)\n",
    "if fa*fb>0:\n",
    "    print(\"wrong interval\")\n",
    "    exit()\n",
    "x=bisect(fun,a,b,eps)\n",
    "print(x)\n"
   ]
  },
  {
   "cell_type": "code",
   "execution_count": 5,
   "id": "097967e6",
   "metadata": {},
   "outputs": [
    {
     "name": "stdout",
     "output_type": "stream",
     "text": [
      "[[1. 1. 1. 1. 1. 1. 1. 1. 1. 1.]\n",
      " [1. 1. 1. 1. 1. 1. 1. 1. 1. 1.]\n",
      " [1. 1. 1. 1. 1. 1. 1. 1. 1. 1.]\n",
      " [1. 1. 1. 1. 1. 1. 1. 1. 1. 1.]\n",
      " [1. 1. 1. 1. 1. 1. 1. 1. 1. 1.]\n",
      " [1. 1. 1. 1. 1. 1. 1. 1. 1. 1.]\n",
      " [1. 1. 1. 1. 1. 1. 1. 1. 1. 1.]\n",
      " [1. 1. 1. 1. 1. 1. 1. 1. 1. 1.]\n",
      " [1. 1. 1. 1. 1. 1. 1. 1. 1. 1.]\n",
      " [1. 1. 1. 1. 1. 1. 1. 1. 1. 1.]]\n"
     ]
    }
   ],
   "source": [
    "\n",
    "import random as rand\n",
    "import numpy as np\n",
    "A=np.ones((10,10))\n",
    "print(A)"
   ]
  },
  {
   "cell_type": "code",
   "execution_count": 6,
   "id": "f9ed0bd1",
   "metadata": {},
   "outputs": [],
   "source": [
    "a=[]\n",
    "for i in range(-1,2,2):\n",
    "    a.append(i)\n",
    "    \n",
    "    "
   ]
  },
  {
   "cell_type": "code",
   "execution_count": 7,
   "id": "8ad58cb3",
   "metadata": {},
   "outputs": [
    {
     "data": {
      "text/plain": [
       "[-1, 1]"
      ]
     },
     "execution_count": 7,
     "metadata": {},
     "output_type": "execute_result"
    }
   ],
   "source": [
    "a"
   ]
  },
  {
   "cell_type": "code",
   "execution_count": 8,
   "id": "d8da0171",
   "metadata": {},
   "outputs": [
    {
     "data": {
      "text/plain": [
       "array([[0.90488417, 0.0520201 , 0.40613135, ..., 0.43988668, 0.23610041,\n",
       "        0.37814615],\n",
       "       [0.22996399, 0.59729117, 0.41278795, ..., 0.35547106, 0.36975781,\n",
       "        0.67515598],\n",
       "       [0.01983959, 0.98758524, 0.46424809, ..., 0.2689863 , 0.41825929,\n",
       "        0.49195277],\n",
       "       ...,\n",
       "       [0.85926541, 0.42792038, 0.50554845, ..., 0.51274252, 0.66652367,\n",
       "        0.14960802],\n",
       "       [0.45678998, 0.88454351, 0.06078906, ..., 0.14050665, 0.86369117,\n",
       "        0.66050276],\n",
       "       [0.43737606, 0.01137154, 0.67190737, ..., 0.44263153, 0.53103159,\n",
       "        0.93771837]])"
      ]
     },
     "execution_count": 8,
     "metadata": {},
     "output_type": "execute_result"
    }
   ],
   "source": [
    "import matplotlib.pyplot as plt\n",
    "\n",
    "N=50\n",
    "init_random=np.random.random((N,N))\n",
    "init_random"
   ]
  },
  {
   "cell_type": "code",
   "execution_count": 10,
   "id": "4f3d02d1",
   "metadata": {},
   "outputs": [
    {
     "data": {
      "text/plain": [
       "array([[ 1., -1., -1., ..., -1., -1., -1.],\n",
       "       [-1., -1., -1., ..., -1., -1., -1.],\n",
       "       [-1.,  1., -1., ..., -1., -1., -1.],\n",
       "       ...,\n",
       "       [ 1., -1., -1., ..., -1., -1., -1.],\n",
       "       [-1.,  1., -1., ..., -1.,  1., -1.],\n",
       "       [-1., -1., -1., ..., -1., -1.,  1.]])"
      ]
     },
     "execution_count": 10,
     "metadata": {},
     "output_type": "execute_result"
    }
   ],
   "source": [
    "lattice_n=np.zeros((N,N))\n",
    "lattice_n[init_random>=0.75]=1\n",
    "lattice_n[init_random<0.75]=-1\n",
    "\n",
    "lattice_n"
   ]
  },
  {
   "cell_type": "code",
   "execution_count": 11,
   "id": "1c67fd93",
   "metadata": {},
   "outputs": [
    {
     "data": {
      "text/plain": [
       "<matplotlib.image.AxesImage at 0x7f786b2a4580>"
      ]
     },
     "execution_count": 11,
     "metadata": {},
     "output_type": "execute_result"
    },
    {
     "data": {
      "image/png": "[encoded data removed]",
      "text/plain": [
       "<Figure size 432x288 with 1 Axes>"
      ]
     },
     "metadata": {
      "needs_background": "light"
     },
     "output_type": "display_data"
    }
   ],
   "source": [
    "plt.imshow(lattice_n)"
   ]
  },
  {
   "cell_type": "code",
   "execution_count": null,
   "id": "7e49199d",
   "metadata": {},
   "outputs": [],
   "source": []
  },
  {
   "cell_type": "code",
   "execution_count": null,
   "id": "d121965d",
   "metadata": {},
   "outputs": [],
   "source": []
  },
  {
   "cell_type": "code",
   "execution_count": null,
   "id": "7746d1a3",
   "metadata": {},
   "outputs": [],
   "source": []
  }
 ],
 "metadata": {
  "kernelspec": {
   "display_name": "Python 3",
   "language": "python",
   "name": "python3"
  },
  "language_info": {
   "codemirror_mode": {
    "name": "ipython",
    "version": 3
   },
   "file_extension": ".py",
   "mimetype": "text/x-python",
   "name": "python",
   "nbconvert_exporter": "python",
   "pygments_lexer": "ipython3",
   "version": "3.8.3"
  }
 },
 "nbformat": 4,
 "nbformat_minor": 5
}
