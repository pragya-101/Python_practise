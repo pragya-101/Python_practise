{
 "cells": [
  {
   "cell_type": "code",
   "execution_count": 42,
   "id": "36aee869",
   "metadata": {},
   "outputs": [],
   "source": [
    "import random \n",
    "import numpy as np"
   ]
  },
  {
   "cell_type": "code",
   "execution_count": 43,
   "id": "52964689",
   "metadata": {},
   "outputs": [
    {
     "data": {
      "text/plain": [
       "array([[ 1, -1, -1, -1, -1,  1,  1,  1,  1, -1],\n",
       "       [ 1,  1, -1, -1, -1, -1,  1,  1, -1,  1],\n",
       "       [-1,  1, -1, -1, -1,  1,  1,  1,  1, -1],\n",
       "       [ 1, -1,  1,  1, -1, -1,  1, -1,  1, -1],\n",
       "       [ 1,  1, -1,  1,  1,  1,  1, -1, -1,  1],\n",
       "       [-1, -1, -1, -1, -1,  1,  1,  1, -1, -1],\n",
       "       [ 1, -1,  1, -1, -1, -1, -1,  1, -1, -1],\n",
       "       [ 1, -1, -1,  1,  1, -1,  1,  1, -1, -1],\n",
       "       [ 1,  1,  1,  1,  1, -1, -1, -1,  1,  1],\n",
       "       [-1, -1,  1,  1, -1, -1, -1,  1,  1,  1]])"
      ]
     },
     "execution_count": 43,
     "metadata": {},
     "output_type": "execute_result"
    }
   ],
   "source": [
    "def random_spin_field(N,M):\n",
    "    return np.random.choice([-1,1], size=(N,M))\n",
    "random_spin_field(10,10)\n",
    "    "
   ]
  },
  {
   "cell_type": "code",
   "execution_count": 44,
   "id": "c39e2bb4",
   "metadata": {},
   "outputs": [
    {
     "data": {
      "image/png": "[encoded data removed]",
      "text/plain": [
       "<PIL.Image.Image image mode=L size=200x200 at 0x7F08480EEF70>"
      ]
     },
     "execution_count": 44,
     "metadata": {},
     "output_type": "execute_result"
    }
   ],
   "source": [
    "from PIL import Image\n",
    "def display_spin_field(field): \n",
    "    return Image.fromarray(np.uint8((field + 1) * 0.5 * 255))\n",
    "display_spin_field(random_spin_field(200,200))   "
   ]
  },
  {
   "cell_type": "code",
   "execution_count": 45,
   "id": "21c1e228",
   "metadata": {},
   "outputs": [],
   "source": [
    "def _ising_step(field,beta=0.4):\n",
    "    N,M = field.shape\n",
    "    for n_ofset in range(2):\n",
    "        for m_ofset in range(2):\n",
    "            for n in range(n_ofset,N,2):\n",
    "                for m in range(m_ofset,M,2):\n",
    "                    _ising_update(field,n,m,beta)\n",
    "    return field\n",
    "def _ising_update(field,n,m,beta):\n",
    "    total=0\n",
    "    N,M=field.shape\n",
    "    for i in range(n-1 , n+2):\n",
    "        for j in range(m-1 , m+2):\n",
    "            if i==n and j==m:\n",
    "                continue\n",
    "            total+= field[i%N,j%M] \n",
    "    dE=2*field[n,m]*total\n",
    "    if dE<=0:\n",
    "        field[n,m] *=-1\n",
    "    elif np.exp(-dE*beta) > np.random.rand():\n",
    "        field[n,m]*=-1\n",
    "    "
   ]
  },
  {
   "cell_type": "code",
   "execution_count": 46,
   "id": "93c3bec2",
   "metadata": {},
   "outputs": [
    {
     "data": {
      "image/png": "[encoded data removed]",
      "text/plain": [
       "<PIL.Image.Image image mode=L size=200x200 at 0x7F0848A0E640>"
      ]
     },
     "execution_count": 46,
     "metadata": {},
     "output_type": "execute_result"
    }
   ],
   "source": [
    "display_spin_field(_ising_step(random_spin_field(200,200)))\n"
   ]
  },
  {
   "cell_type": "code",
   "execution_count": 51,
   "id": "c7155cef",
   "metadata": {},
   "outputs": [],
   "source": [
    "from ipywidgets import interact\n",
    "\n",
    "def display_ising_sequence(images):\n",
    "    def _show(frame = (0, len(images) - 1)):\n",
    "        display_spin_field(images[frame])\n",
    "    return interact(_show)   "
   ]
  },
  {
   "cell_type": "code",
   "execution_count": null,
   "id": "9d1e1b0e",
   "metadata": {},
   "outputs": [],
   "source": [
    "images = [random_spin_field(200,200)]\n",
    "for i in range(50):\n",
    "    images.append(_ising_step(images[-1].copy()))\n",
    "display_ising_sequence(images)"
   ]
  },
  {
   "cell_type": "code",
   "execution_count": null,
   "id": "684f6997",
   "metadata": {},
   "outputs": [],
   "source": []
  }
 ],
 "metadata": {
  "kernelspec": {
   "display_name": "Python 3",
   "language": "python",
   "name": "python3"
  },
  "language_info": {
   "codemirror_mode": {
    "name": "ipython",
    "version": 3
   },
   "file_extension": ".py",
   "mimetype": "text/x-python",
   "name": "python",
   "nbconvert_exporter": "python",
   "pygments_lexer": "ipython3",
   "version": "3.8.3"
  }
 },
 "nbformat": 4,
 "nbformat_minor": 5
}
